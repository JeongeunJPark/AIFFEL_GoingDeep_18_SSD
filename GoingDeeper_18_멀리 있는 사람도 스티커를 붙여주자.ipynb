{
 "cells": [
  {
   "cell_type": "markdown",
   "metadata": {},
   "source": [
    "## 이 노드의 루브릭            \n",
    "\n",
    "#### 1. multiface detection을 위한 widerface 데이터셋의 전처리가 적절히 진행되었다.         \n",
    "    : tfrecord 생성, augmentation, prior box 생성 등의 과정이 정상적으로 진행되었다.       \n",
    "        \n",
    "#### 2. SSD 모델이 안정적으로 학습되어 multiface detection이 가능해졌다.           \n",
    "    : inference를 통해 정확한 위치의 face bounding box를 detect한"
   ]
  }
 ],
 "metadata": {
  "kernelspec": {
   "display_name": "aiffel",
   "language": "python",
   "name": "aiffel"
  },
  "language_info": {
   "codemirror_mode": {
    "name": "ipython",
    "version": 3
   },
   "file_extension": ".py",
   "mimetype": "text/x-python",
   "name": "python",
   "nbconvert_exporter": "python",
   "pygments_lexer": "ipython3",
   "version": "3.7.9"
  }
 },
 "nbformat": 4,
 "nbformat_minor": 4
}
